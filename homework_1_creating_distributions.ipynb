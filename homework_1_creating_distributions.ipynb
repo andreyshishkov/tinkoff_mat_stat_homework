{
 "cells": [
  {
   "cell_type": "code",
   "execution_count": 5,
   "metadata": {},
   "outputs": [],
   "source": [
    "import numpy as np\n",
    "import scipy.stats as st\n",
    "import matplotlib.pyplot as plt\n",
    "import seaborn as sns\n",
    "%matplotlib inline"
   ]
  },
  {
   "cell_type": "code",
   "execution_count": 6,
   "metadata": {},
   "outputs": [
    {
     "name": "stdout",
     "output_type": "stream",
     "text": [
      "Enter type of distribution: normal\n"
     ]
    }
   ],
   "source": [
    "distribution = input('Enter type of distribution: ')"
   ]
  },
  {
   "cell_type": "code",
   "execution_count": 8,
   "metadata": {},
   "outputs": [
    {
     "name": "stdout",
     "output_type": "stream",
     "text": [
      "Enter mean0\n",
      "Enter mean1\n"
     ]
    },
    {
     "data": {
      "image/png": "[encoded data removed]",
      "text/plain": [
       "<Figure size 432x288 with 1 Axes>"
      ]
     },
     "metadata": {
      "needs_background": "light"
     },
     "output_type": "display_data"
    }
   ],
   "source": [
    "if distribution == 'normal':\n",
    "    mean = float(input('Enter mean'))\n",
    "    std = float(input('Enter mean'))\n",
    "    grid = np.linspace(st.norm.ppf(0.001, loc=mean, scale=std), st.norm.ppf(0.999, loc=mean, scale=std), 100)\n",
    "    dist = st.norm.pdf(grid, loc=mean, scale=std)\n",
    "    plt.plot(grid, dist)\n",
    "elif distribution == 'uniform':\n",
    "    a = float(input('Enter a '))\n",
    "    b = float(input('Enter b '))\n",
    "    grid = np.linspace(st.uniform.ppf(a), st.uniform.ppf(b), 100)\n",
    "    dist = st.uniform.pdf(grid)\n",
    "    plt.plot(grid, dist)\n",
    "elif distribution == 'binomial':\n",
    "    n = int(input('Enter n: '))\n",
    "    p = float(input('Enter p: '))\n",
    "    grid = np.linspace(st.binom.ppf(0.001, n, p), st.binom.ppf(0.99, n, p), 100)\n",
    "    dist = st.binom.pmf(grid, n, p)\n",
    "    plt.plot(grid, dist)\n",
    "plt.show()"
   ]
  },
  {
   "cell_type": "code",
   "execution_count": 9,
   "metadata": {},
   "outputs": [
    {
     "name": "stdout",
     "output_type": "stream",
     "text": [
      "100\n"
     ]
    }
   ],
   "source": [
    "N = int(input())"
   ]
  },
  {
   "cell_type": "code",
   "execution_count": 10,
   "metadata": {},
   "outputs": [],
   "source": [
    "theoretical_mean = dist.mean()"
   ]
  },
  {
   "cell_type": "code",
   "execution_count": 11,
   "metadata": {},
   "outputs": [],
   "source": [
    "sample = np.random.choice(dist, size=N)"
   ]
  },
  {
   "cell_type": "code",
   "execution_count": 15,
   "metadata": {},
   "outputs": [
    {
     "data": {
      "text/plain": [
       "<AxesSubplot:ylabel='Count'>"
      ]
     },
     "execution_count": 15,
     "metadata": {},
     "output_type": "execute_result"
    },
    {
     "data": {
      "image/png": "[encoded data removed]",
      "text/plain": [
       "<Figure size 432x288 with 1 Axes>"
      ]
     },
     "metadata": {
      "needs_background": "light"
     },
     "output_type": "display_data"
    }
   ],
   "source": [
    "sns.histplot(sample)"
   ]
  },
  {
   "cell_type": "code",
   "execution_count": 12,
   "metadata": {},
   "outputs": [],
   "source": [
    "practical_mean = sample.mean()"
   ]
  },
  {
   "cell_type": "code",
   "execution_count": 13,
   "metadata": {},
   "outputs": [
    {
     "name": "stdout",
     "output_type": "stream",
     "text": [
      "theoretical mean:  0.15989435673179225\n",
      "practical mean 0.16627133700208957\n",
      "Difference:  0.006376980270297317\n"
     ]
    }
   ],
   "source": [
    "print('theoretical mean: ', theoretical_mean)\n",
    "print('practical mean', practical_mean)\n",
    "print('Difference: ', abs(practical_mean - theoretical_mean))"
   ]
  }
 ],
 "metadata": {
  "kernelspec": {
   "display_name": "Python 3 (ipykernel)",
   "language": "python",
   "name": "python3"
  },
  "language_info": {
   "codemirror_mode": {
    "name": "ipython",
    "version": 3
   },
   "file_extension": ".py",
   "mimetype": "text/x-python",
   "name": "python",
   "nbconvert_exporter": "python",
   "pygments_lexer": "ipython3",
   "version": "3.8.10"
  }
 },
 "nbformat": 4,
 "nbformat_minor": 4
}
